{
 "cells": [
  {
   "cell_type": "code",
   "execution_count": 1,
   "metadata": {
    "_cell_guid": "b1076dfc-b9ad-4769-8c92-a6c4dae69d19",
    "_uuid": "8f2839f25d086af736a60e9eeb907d3b93b6e0e5",
    "execution": {
     "iopub.execute_input": "2025-03-23T23:20:26.786736Z",
     "iopub.status.busy": "2025-03-23T23:20:26.786314Z",
     "iopub.status.idle": "2025-03-23T23:20:27.270093Z",
     "shell.execute_reply": "2025-03-23T23:20:27.268979Z",
     "shell.execute_reply.started": "2025-03-23T23:20:26.786699Z"
    },
    "trusted": true
   },
   "outputs": [],
   "source": [
    "import numpy as np # linear algebra\n",
    "import pandas as pd # data processing, CSV file I/O (e.g. pd.read_csv)\n"
   ]
  },
  {
   "cell_type": "code",
   "execution_count": 2,
   "metadata": {
    "execution": {
     "iopub.execute_input": "2025-03-23T23:20:28.952969Z",
     "iopub.status.busy": "2025-03-23T23:20:28.952420Z",
     "iopub.status.idle": "2025-03-23T23:21:13.362231Z",
     "shell.execute_reply": "2025-03-23T23:21:13.360761Z",
     "shell.execute_reply.started": "2025-03-23T23:20:28.952933Z"
    },
    "trusted": true
   },
   "outputs": [],
   "source": [
    "df=pd.read_csv(\"JOB_IT.csv\")"
   ]
  },
  {
   "cell_type": "code",
   "execution_count": 3,
   "metadata": {
    "execution": {
     "iopub.execute_input": "2025-03-23T21:42:33.332718Z",
     "iopub.status.busy": "2025-03-23T21:42:33.332450Z",
     "iopub.status.idle": "2025-03-23T21:42:33.340083Z",
     "shell.execute_reply": "2025-03-23T21:42:33.338720Z",
     "shell.execute_reply.started": "2025-03-23T21:42:33.332694Z"
    },
    "trusted": true
   },
   "outputs": [
    {
     "data": {
      "text/plain": [
       "(371522, 23)"
      ]
     },
     "execution_count": 3,
     "metadata": {},
     "output_type": "execute_result"
    }
   ],
   "source": [
    "df.shape"
   ]
  },
  {
   "cell_type": "code",
   "execution_count": 4,
   "metadata": {
    "execution": {
     "iopub.execute_input": "2025-03-23T21:42:48.986190Z",
     "iopub.status.busy": "2025-03-23T21:42:48.985829Z",
     "iopub.status.idle": "2025-03-23T21:42:54.792718Z",
     "shell.execute_reply": "2025-03-23T21:42:54.791414Z",
     "shell.execute_reply.started": "2025-03-23T21:42:48.986163Z"
    },
    "trusted": true
   },
   "outputs": [],
   "source": [
    "def format_job_text(row):\n",
    "    text = f\"\"\"{row['Job Title']}.\n",
    "    Description du poste : {row['Job Description']}.\n",
    "    Les responsabilités sont : {row['Responsibilities']}.\n",
    "    Compétences requises : {row['skills']}\"\"\"\n",
    "    \n",
    "    return text.strip()\n",
    "\n",
    "# Appliquer la transformation sur chaque ligne\n",
    "df['full_job_text'] = df.apply(format_job_text, axis=1)"
   ]
  },
  {
   "cell_type": "markdown",
   "metadata": {},
   "source": [
    "#### WORD2VEC"
   ]
  },
  {
   "cell_type": "code",
   "execution_count": 11,
   "metadata": {
    "execution": {
     "iopub.execute_input": "2025-03-23T21:43:00.794136Z",
     "iopub.status.busy": "2025-03-23T21:43:00.793760Z",
     "iopub.status.idle": "2025-03-23T21:43:19.112496Z",
     "shell.execute_reply": "2025-03-23T21:43:19.111391Z",
     "shell.execute_reply.started": "2025-03-23T21:43:00.794103Z"
    },
    "trusted": true
   },
   "outputs": [
    {
     "name": "stderr",
     "output_type": "stream",
     "text": [
      "[nltk_data] Downloading package punkt to\n",
      "[nltk_data]     C:\\Users\\user\\AppData\\Roaming\\nltk_data...\n",
      "[nltk_data]   Package punkt is already up-to-date!\n",
      "[nltk_data] Downloading package stopwords to\n",
      "[nltk_data]     C:\\Users\\user\\AppData\\Roaming\\nltk_data...\n",
      "[nltk_data]   Unzipping corpora\\stopwords.zip.\n",
      "[nltk_data] Downloading package wordnet to\n",
      "[nltk_data]     C:\\Users\\user\\AppData\\Roaming\\nltk_data...\n"
     ]
    },
    {
     "data": {
      "text/plain": [
       "True"
      ]
     },
     "execution_count": 11,
     "metadata": {},
     "output_type": "execute_result"
    }
   ],
   "source": [
    "import gensim\n",
    "import nltk\n",
    "\n",
    "\n",
    "from nltk.tokenize import word_tokenize, sent_tokenize\n",
    "from nltk.corpus import stopwords\n",
    "from nltk.stem import WordNetLemmatizer\n",
    "import re\n",
    "from gensim.models import Word2Vec\n",
    "import numpy as np\n",
    "from sklearn.metrics.pairwise import cosine_similarity\n",
    "\n",
    "\n",
    "import nltk\n",
    "nltk.download('punkt')  # for word_tokenize and sent_tokenize\n",
    "nltk.download('stopwords')  # for stopwords\n",
    "nltk.download('wordnet')  # for WordNetLemmatizer\n"
   ]
  },
  {
   "cell_type": "code",
   "execution_count": 12,
   "metadata": {
    "execution": {
     "iopub.execute_input": "2025-03-23T21:43:19.114759Z",
     "iopub.status.busy": "2025-03-23T21:43:19.113970Z",
     "iopub.status.idle": "2025-03-23T21:43:19.120958Z",
     "shell.execute_reply": "2025-03-23T21:43:19.119639Z",
     "shell.execute_reply.started": "2025-03-23T21:43:19.114719Z"
    },
    "trusted": true
   },
   "outputs": [],
   "source": [
    "# Prétraitement\n",
    "def preprocess_text(text):\n",
    "    text = text.lower()\n",
    "    text = re.sub(r'[^a-zA-Z\\s]', '', text)  # Suppression des caractères non alphabétiques\n",
    "    tokens = word_tokenize(text)\n",
    "    stop_words = set(stopwords.words('english'))\n",
    "    tokens = [word for word in tokens if word not in stop_words]\n",
    "    lemmatizer = WordNetLemmatizer()\n",
    "    #tokens = [lemmatizer.lemmatize(word) for word in tokens]\n",
    "    tokens = [word for word in tokens if len(word) > 2 and len(word) < 20]\n",
    "    return tokens"
   ]
  },
  {
   "cell_type": "code",
   "execution_count": 13,
   "metadata": {
    "execution": {
     "iopub.execute_input": "2025-03-23T21:43:19.123838Z",
     "iopub.status.busy": "2025-03-23T21:43:19.123450Z",
     "iopub.status.idle": "2025-03-23T21:43:19.144812Z",
     "shell.execute_reply": "2025-03-23T21:43:19.143577Z",
     "shell.execute_reply.started": "2025-03-23T21:43:19.123793Z"
    },
    "trusted": true
   },
   "outputs": [],
   "source": [
    "def train_word2vec_model(all_job_des, all_cv_texts, vector_size=100, window=5, min_count=1, workers=4):\n",
    "   \n",
    "    # Prétraitement all job descriptions and CVs\n",
    "    tokenized_jobs = [preprocess_text(text.lower()) for text in all_job_des]\n",
    "    tokenized_cvs = [preprocess_text(text.lower()) for text in all_cv_texts]\n",
    "\n",
    "    # Combine all tokenized texts into one corpus\n",
    "    corpus = tokenized_jobs + tokenized_cvs\n",
    "\n",
    "    # Train the Word2Vec model\n",
    "    model = Word2Vec(corpus, vector_size=vector_size, window=window, min_count=min_count, workers=workers)\n",
    "\n",
    "    return model"
   ]
  },
  {
   "cell_type": "code",
   "execution_count": 14,
   "metadata": {
    "execution": {
     "iopub.execute_input": "2025-03-23T21:43:19.146333Z",
     "iopub.status.busy": "2025-03-23T21:43:19.146034Z",
     "iopub.status.idle": "2025-03-23T21:43:19.163738Z",
     "shell.execute_reply": "2025-03-23T21:43:19.162416Z",
     "shell.execute_reply.started": "2025-03-23T21:43:19.146308Z"
    },
    "trusted": true
   },
   "outputs": [],
   "source": [
    "def get_average_word_vector(tokens, model):\n",
    "    word_vectors = [model.wv[token] for token in tokens if token in model.wv]\n",
    "    if not word_vectors:\n",
    "        return np.zeros(model.vector_size)  # Return a zero vector if no valid words\n",
    "    return np.mean(word_vectors, axis=0)"
   ]
  },
  {
   "cell_type": "code",
   "execution_count": 15,
   "metadata": {
    "execution": {
     "iopub.execute_input": "2025-03-23T21:43:19.165489Z",
     "iopub.status.busy": "2025-03-23T21:43:19.165108Z",
     "iopub.status.idle": "2025-03-23T21:43:19.185468Z",
     "shell.execute_reply": "2025-03-23T21:43:19.184255Z",
     "shell.execute_reply.started": "2025-03-23T21:43:19.165459Z"
    },
    "trusted": true
   },
   "outputs": [],
   "source": [
    "\n",
    "def jd_cv_match_word2vec(cv_details, jd_text, model):\n",
    "\n",
    "    # Tokenize the JD text\n",
    "    tokenized_jd = word_tokenize(jd_text.lower())\n",
    "\n",
    "    # Compute the average vector for the JD\n",
    "    jd_vector = get_average_word_vector(tokenized_jd, model)\n",
    "\n",
    "    # Compute similarity scores for each CV\n",
    "    results = []\n",
    "    for cv in cv_details:\n",
    "        tokenized_cv = word_tokenize(cv['text'].lower())\n",
    "        cv_vector = get_average_word_vector(tokenized_cv, model)\n",
    "        similarity_score = cosine_similarity([jd_vector], [cv_vector])[0][0]\n",
    "\n",
    "        results.append({\n",
    "            'name': cv['name'],\n",
    "            'path': cv['path'],\n",
    "            'similarity_score': similarity_score\n",
    "        })\n",
    "\n",
    "    # Sort results by similarity score (descending)\n",
    "    results.sort(key=lambda x: x['similarity_score'], reverse=True)\n",
    "\n",
    "    # Add rank to results\n",
    "    ranked_results = [{'rank': i + 1, 'name': result['name'], 'path': result['path'], 'similarity_score': result['similarity_score']} for i, result in enumerate(results)]\n",
    "\n",
    "    return ranked_results\n"
   ]
  },
  {
   "cell_type": "code",
   "execution_count": 16,
   "metadata": {
    "execution": {
     "iopub.execute_input": "2025-03-23T21:43:24.673228Z",
     "iopub.status.busy": "2025-03-23T21:43:24.672830Z",
     "iopub.status.idle": "2025-03-23T21:43:24.708208Z",
     "shell.execute_reply": "2025-03-23T21:43:24.707203Z",
     "shell.execute_reply.started": "2025-03-23T21:43:24.673197Z"
    },
    "trusted": true
   },
   "outputs": [],
   "source": [
    "all_job_des=df['full_job_text']\n",
    "cvs_df = pd.read_csv('UpdatedResumeDataSet.csv')\n",
    "all_cv_texts = cvs_df.Resume\n"
   ]
  },
  {
   "cell_type": "code",
   "execution_count": 17,
   "metadata": {
    "execution": {
     "iopub.execute_input": "2025-03-23T21:43:34.466209Z",
     "iopub.status.busy": "2025-03-23T21:43:34.465835Z",
     "iopub.status.idle": "2025-03-23T21:49:11.997295Z",
     "shell.execute_reply": "2025-03-23T21:49:11.996382Z",
     "shell.execute_reply.started": "2025-03-23T21:43:34.466182Z"
    },
    "trusted": true
   },
   "outputs": [],
   "source": [
    "# Train Word2Vec model\n",
    "word2vec_model = train_word2vec_model(all_job_des, all_cv_texts)"
   ]
  },
  {
   "cell_type": "code",
   "execution_count": 18,
   "metadata": {
    "execution": {
     "iopub.execute_input": "2025-03-23T21:49:51.912306Z",
     "iopub.status.busy": "2025-03-23T21:49:51.911958Z",
     "iopub.status.idle": "2025-03-23T21:49:51.917516Z",
     "shell.execute_reply": "2025-03-23T21:49:51.916264Z",
     "shell.execute_reply.started": "2025-03-23T21:49:51.912278Z"
    },
    "trusted": true
   },
   "outputs": [],
   "source": [
    "cv_details_1 = [\n",
    "    {\n",
    "        'name': 'Amine B.',\n",
    "        'path': '/path/to/amine_b_cv.pdf',\n",
    "        'text': \"Ingénieur en développement web avec expertise en React et Node.js. \"\n",
    "                \"Expérience dans la création d'applications web modernes et scalables. \"\n",
    "                \"Maîtrise des API REST, Redux et déploiement sur AWS.\"\n",
    "    },\n",
    "    {\n",
    "        'name': 'Karim M.',\n",
    "        'path': '/path/to/sarah_m_cv.pdf',\n",
    "        'text': \"Spécialiste en science des données avec expertise en machine learning. \"\n",
    "                \"Expérience dans le développement de modèles prédictifs avec TensorFlow et PyTorch. \"\n",
    "                \"Compétences en manipulation de bases de données SQL et NoSQL.\"\n",
    "    },\n",
    "    {\n",
    "        'name': 'Omar K.',\n",
    "        'path': '/path/to/omar_k_cv.pdf',\n",
    "        'text': \"Développeur full-stack avec expérience en React, Node.js et MongoDB. \"\n",
    "                \"Travail sur des plateformes SaaS et e-commerce, intégration d'API tierces. \"\n",
    "                \"Passionné par le code propre et les méthodologies Agile.\"\n",
    "    }\n",
    "]\n",
    "\n",
    "# Exemple d’offre d'emploi (JD)\n",
    "jd_text_1 = (\n",
    "    \"Nous recherchons un développeur web expérimenté en React et Node.js. \"\n",
    "    \"Le candidat idéal doit maîtriser Redux, les API REST et avoir une expérience en déploiement cloud (AWS, GCP). \"\n",
    "    \"Une connaissance des bases de données SQL et NoSQL est un plus.\"\n",
    ")\n"
   ]
  },
  {
   "cell_type": "code",
   "execution_count": 19,
   "metadata": {
    "execution": {
     "iopub.execute_input": "2025-03-23T21:49:53.213677Z",
     "iopub.status.busy": "2025-03-23T21:49:53.213362Z",
     "iopub.status.idle": "2025-03-23T21:49:53.225473Z",
     "shell.execute_reply": "2025-03-23T21:49:53.224377Z",
     "shell.execute_reply.started": "2025-03-23T21:49:53.213653Z"
    },
    "trusted": true
   },
   "outputs": [
    {
     "name": "stdout",
     "output_type": "stream",
     "text": [
      "Name: Amine B., Similarity Score: 0.7134426832199097\n",
      "Name: Omar K., Similarity Score: 0.3598793148994446\n",
      "Name: Karim M., Similarity Score: 0.2445150464773178\n"
     ]
    }
   ],
   "source": [
    "#jd_text=\"We are looking for an experienced Agriculture nvironments\"\n",
    "ranked_cvs = jd_cv_match_word2vec(cv_details_1, jd_text_1,word2vec_model)\n",
    "\n",
    "# Print the ranked results\n",
    "for result in ranked_cvs:\n",
    "    print(f\"Name: {result['name']}, Similarity Score: {result['similarity_score']}\")"
   ]
  },
  {
   "cell_type": "code",
   "execution_count": null,
   "metadata": {
    "trusted": true
   },
   "outputs": [],
   "source": []
  },
  {
   "cell_type": "code",
   "execution_count": null,
   "metadata": {
    "trusted": true
   },
   "outputs": [],
   "source": []
  },
  {
   "cell_type": "markdown",
   "metadata": {},
   "source": [
    "#### Evalute "
   ]
  },
  {
   "cell_type": "code",
   "execution_count": 21,
   "metadata": {
    "execution": {
     "iopub.execute_input": "2025-03-23T21:58:52.550870Z",
     "iopub.status.busy": "2025-03-23T21:58:52.550502Z",
     "iopub.status.idle": "2025-03-23T21:58:52.559669Z",
     "shell.execute_reply": "2025-03-23T21:58:52.558487Z",
     "shell.execute_reply.started": "2025-03-23T21:58:52.550824Z"
    },
    "trusted": true
   },
   "outputs": [],
   "source": [
    "from nltk.tokenize import word_tokenize\n",
    "from sklearn.metrics.pairwise import cosine_similarity\n",
    "import numpy as np\n",
    "\n",
    "def get_average_word_vector(tokens, model):\n",
    "    word_vectors = [model.wv[token] for token in tokens if token in model.wv]\n",
    "    if not word_vectors:\n",
    "        return np.zeros(model.vector_size)  # Return a zero vector if no valid words\n",
    "    return np.mean(word_vectors, axis=0)\n",
    "\n",
    "def jd_cv_match_word2vec(cvs_df, jd_texts, model):\n",
    "    \"\"\"\n",
    "    Given 100 JDs (in `jd_texts`), find top 10 CVs for each JD using Word2Vec.\n",
    "    \"\"\"\n",
    "    all_results = []\n",
    "\n",
    "    for jd_text in jd_texts:\n",
    "        # Tokenize the JD text\n",
    "        tokenized_jd = word_tokenize(jd_text.lower())\n",
    "\n",
    "        # Compute the average vector for the JD\n",
    "        jd_vector = get_average_word_vector(tokenized_jd, model)\n",
    "\n",
    "        # Compute similarity scores for each CV in the DataFrame\n",
    "        results = []\n",
    "        for index, row in cvs_df.iterrows():\n",
    "            # Tokenize the resume\n",
    "            tokenized_cv = word_tokenize(row['Resume'].lower())\n",
    "            cv_vector = get_average_word_vector(tokenized_cv, model)\n",
    "\n",
    "            # Compute cosine similarity\n",
    "            similarity_score = cosine_similarity([jd_vector], [cv_vector])[0][0]\n",
    "\n",
    "            results.append({\n",
    "                'similarity_score': similarity_score,\n",
    "                'resume_text': row['Resume']  # Store the resume text instead of name/path\n",
    "            })\n",
    "\n",
    "        # Sort results by similarity score (descending)\n",
    "        results.sort(key=lambda x: x['similarity_score'], reverse=True)\n",
    "\n",
    "        # Keep top 10 CVs\n",
    "        top_10_results = [{'rank': i + 1, 'resume_text': result['resume_text'], 'similarity_score': result['similarity_score']} for i, result in enumerate(results[:10])]\n",
    "\n",
    "        # Append to all_results\n",
    "        all_results.append(top_10_results)\n",
    "\n",
    "    return all_results\n"
   ]
  },
  {
   "cell_type": "code",
   "execution_count": 22,
   "metadata": {
    "execution": {
     "iopub.execute_input": "2025-03-23T21:50:25.827953Z",
     "iopub.status.busy": "2025-03-23T21:50:25.827598Z",
     "iopub.status.idle": "2025-03-23T21:50:25.834162Z",
     "shell.execute_reply": "2025-03-23T21:50:25.832987Z",
     "shell.execute_reply.started": "2025-03-23T21:50:25.827924Z"
    },
    "trusted": true
   },
   "outputs": [],
   "source": [
    "from rouge_score import rouge_scorer\n",
    "import numpy as np\n",
    "\n",
    "def compute_average_rouge_recall(jd_texts, ranked_results):\n",
    "    \"\"\"\n",
    "    Compute the average recall values of ROUGE-1 for the top 10 matched resumes across 100 JDs.\n",
    "\n",
    "    jd_texts: List of 100 Job Descriptions (JDs).\n",
    "    ranked_results: List of lists, where each sublist contains top 10 CVs for a JD.\n",
    "\n",
    "    Returns:\n",
    "        Average ROUGE-1 recall score across 100 JDs.\n",
    "    \"\"\"\n",
    "    scorer = rouge_scorer.RougeScorer(['rouge1'], use_stemmer=True)\n",
    "    rouge_recall_values = []\n",
    "\n",
    "    for jd_text, top_10_cvs in zip(jd_texts, ranked_results):\n",
    "        jd_reference = jd_text  # JD is the reference\n",
    "        recall_scores = []\n",
    "\n",
    "        for cv in top_10_cvs:\n",
    "            cv_text = cv['resume_text']  # Extract CV text\n",
    "            rouge_scores = scorer.score(jd_reference, cv_text)\n",
    "            recall_scores.append(rouge_scores['rouge1'].recall)  # Store recall score\n",
    "\n",
    "        # Compute the average recall for this JD's top 10 resumes\n",
    "        avg_recall_for_jd = np.mean(recall_scores)\n",
    "        rouge_recall_values.append(avg_recall_for_jd)\n",
    "\n",
    "    # Compute the overall average recall across all 100 JDs\n",
    "    overall_avg_rouge_recall = np.mean(rouge_recall_values)\n",
    "    \n",
    "    return overall_avg_rouge_recall\n"
   ]
  },
  {
   "cell_type": "code",
   "execution_count": 23,
   "metadata": {
    "execution": {
     "iopub.execute_input": "2025-03-23T21:55:47.077035Z",
     "iopub.status.busy": "2025-03-23T21:55:47.076680Z",
     "iopub.status.idle": "2025-03-23T21:55:47.096101Z",
     "shell.execute_reply": "2025-03-23T21:55:47.094987Z",
     "shell.execute_reply.started": "2025-03-23T21:55:47.077008Z"
    },
    "trusted": true
   },
   "outputs": [],
   "source": [
    "import pandas as pd\n",
    "\n",
    "def select_random_jds(df, num_samples=100, seed=42):\n",
    "    \n",
    "    sampled_jds = df.sample(n=num_samples, random_state=seed)  # Randomly select 100 JDs\n",
    "    return sampled_jds['full_job_text'].tolist()  # Return as a list of text\n",
    "\n",
    "# Example Usage\n",
    "random_jds = select_random_jds(df)  # Select 100 random JDs\n"
   ]
  },
  {
   "cell_type": "code",
   "execution_count": 24,
   "metadata": {
    "execution": {
     "iopub.execute_input": "2025-03-23T21:57:15.392479Z",
     "iopub.status.busy": "2025-03-23T21:57:15.392107Z",
     "iopub.status.idle": "2025-03-23T21:57:15.398189Z",
     "shell.execute_reply": "2025-03-23T21:57:15.397163Z",
     "shell.execute_reply.started": "2025-03-23T21:57:15.392452Z"
    },
    "trusted": true
   },
   "outputs": [
    {
     "data": {
      "text/plain": [
       "<gensim.models.word2vec.Word2Vec at 0x2cf8d29d370>"
      ]
     },
     "execution_count": 24,
     "metadata": {},
     "output_type": "execute_result"
    }
   ],
   "source": [
    "word2vec_model"
   ]
  },
  {
   "cell_type": "code",
   "execution_count": 25,
   "metadata": {
    "execution": {
     "iopub.execute_input": "2025-03-23T21:59:08.034572Z",
     "iopub.status.busy": "2025-03-23T21:59:08.034233Z",
     "iopub.status.idle": "2025-03-23T22:07:49.980493Z",
     "shell.execute_reply": "2025-03-23T22:07:49.978463Z",
     "shell.execute_reply.started": "2025-03-23T21:59:08.034546Z"
    },
    "trusted": true
   },
   "outputs": [],
   "source": [
    "ranked_results=jd_cv_match_word2vec(cvs_df, random_jds, word2vec_model)"
   ]
  },
  {
   "cell_type": "code",
   "execution_count": 26,
   "metadata": {
    "execution": {
     "iopub.execute_input": "2025-03-23T22:31:41.734577Z",
     "iopub.status.busy": "2025-03-23T22:31:41.734054Z",
     "iopub.status.idle": "2025-03-23T22:31:50.896013Z",
     "shell.execute_reply": "2025-03-23T22:31:50.894561Z",
     "shell.execute_reply.started": "2025-03-23T22:31:41.734539Z"
    },
    "trusted": true
   },
   "outputs": [],
   "source": [
    "overall_avg_rouge_recall=compute_average_rouge_recall(random_jds, ranked_results)"
   ]
  },
  {
   "cell_type": "code",
   "execution_count": 27,
   "metadata": {
    "execution": {
     "iopub.execute_input": "2025-03-23T22:32:24.605561Z",
     "iopub.status.busy": "2025-03-23T22:32:24.605236Z",
     "iopub.status.idle": "2025-03-23T22:32:24.611452Z",
     "shell.execute_reply": "2025-03-23T22:32:24.610460Z",
     "shell.execute_reply.started": "2025-03-23T22:32:24.605535Z"
    },
    "trusted": true
   },
   "outputs": [
    {
     "data": {
      "text/plain": [
       "0.4071105567648859"
      ]
     },
     "execution_count": 27,
     "metadata": {},
     "output_type": "execute_result"
    }
   ],
   "source": [
    "overall_avg_rouge_recall"
   ]
  }
 ],
 "metadata": {
  "kaggle": {
   "accelerator": "none",
   "dataSources": [
    {
     "datasetId": 1177531,
     "sourceId": 1971405,
     "sourceType": "datasetVersion"
    },
    {
     "datasetId": 3749643,
     "sourceId": 6488828,
     "sourceType": "datasetVersion"
    }
   ],
   "dockerImageVersionId": 30918,
   "isGpuEnabled": false,
   "isInternetEnabled": true,
   "language": "python",
   "sourceType": "notebook"
  },
  "kernelspec": {
   "display_name": "Python 3",
   "language": "python",
   "name": "python3"
  },
  "language_info": {
   "codemirror_mode": {
    "name": "ipython",
    "version": 3
   },
   "file_extension": ".py",
   "mimetype": "text/x-python",
   "name": "python",
   "nbconvert_exporter": "python",
   "pygments_lexer": "ipython3",
   "version": "3.12.6"
  }
 },
 "nbformat": 4,
 "nbformat_minor": 4
}
