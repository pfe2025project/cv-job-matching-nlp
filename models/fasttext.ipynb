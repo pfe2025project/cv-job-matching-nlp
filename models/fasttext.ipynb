{
 "cells": [
  {
   "cell_type": "code",
   "execution_count": 1,
   "metadata": {
    "_cell_guid": "b1076dfc-b9ad-4769-8c92-a6c4dae69d19",
    "_uuid": "8f2839f25d086af736a60e9eeb907d3b93b6e0e5",
    "execution": {
     "iopub.execute_input": "2025-03-23T22:38:35.584512Z",
     "iopub.status.busy": "2025-03-23T22:38:35.584200Z",
     "iopub.status.idle": "2025-03-23T22:38:35.968710Z",
     "shell.execute_reply": "2025-03-23T22:38:35.967722Z",
     "shell.execute_reply.started": "2025-03-23T22:38:35.584489Z"
    },
    "trusted": true
   },
   "outputs": [],
   "source": [
    "import numpy as np # linear algebra\n",
    "import pandas as pd # data processing, CSV file I/O (e.g. pd.read_csv)\n"
   ]
  },
  {
   "cell_type": "code",
   "execution_count": 2,
   "metadata": {
    "execution": {
     "iopub.execute_input": "2025-03-23T22:38:38.011429Z",
     "iopub.status.busy": "2025-03-23T22:38:38.010912Z",
     "iopub.status.idle": "2025-03-23T22:39:18.863495Z",
     "shell.execute_reply": "2025-03-23T22:39:18.862616Z",
     "shell.execute_reply.started": "2025-03-23T22:38:38.011398Z"
    },
    "trusted": true
   },
   "outputs": [],
   "source": [
    "df=pd.read_csv(\"JOB_IT.csv\")"
   ]
  },
  {
   "cell_type": "code",
   "execution_count": 3,
   "metadata": {
    "execution": {
     "iopub.execute_input": "2025-03-23T22:39:19.467549Z",
     "iopub.status.busy": "2025-03-23T22:39:19.467236Z",
     "iopub.status.idle": "2025-03-23T22:39:19.473572Z",
     "shell.execute_reply": "2025-03-23T22:39:19.472563Z",
     "shell.execute_reply.started": "2025-03-23T22:39:19.467524Z"
    },
    "trusted": true
   },
   "outputs": [
    {
     "data": {
      "text/plain": [
       "(371522, 23)"
      ]
     },
     "execution_count": 3,
     "metadata": {},
     "output_type": "execute_result"
    }
   ],
   "source": [
    "df.shape"
   ]
  },
  {
   "cell_type": "code",
   "execution_count": 4,
   "metadata": {
    "execution": {
     "iopub.execute_input": "2025-03-23T22:39:19.474807Z",
     "iopub.status.busy": "2025-03-23T22:39:19.474488Z",
     "iopub.status.idle": "2025-03-23T22:39:24.975679Z",
     "shell.execute_reply": "2025-03-23T22:39:24.974704Z",
     "shell.execute_reply.started": "2025-03-23T22:39:19.474773Z"
    },
    "trusted": true
   },
   "outputs": [],
   "source": [
    "def format_job_text(row):\n",
    "    text = f\"\"\"{row['Job Title']}.\n",
    "    Description du poste : {row['Job Description']}.\n",
    "    Les responsabilités sont : {row['Responsibilities']}.\n",
    "    Compétences requises : {row['skills']}\"\"\"\n",
    "    \n",
    "    return text.strip()\n",
    "\n",
    "# Appliquer la transformation sur chaque ligne\n",
    "df['full_job_text'] = df.apply(format_job_text, axis=1)"
   ]
  },
  {
   "cell_type": "markdown",
   "metadata": {},
   "source": [
    "#### WORD2VEC"
   ]
  },
  {
   "cell_type": "code",
   "execution_count": 5,
   "metadata": {
    "execution": {
     "iopub.execute_input": "2025-03-23T22:41:59.849961Z",
     "iopub.status.busy": "2025-03-23T22:41:59.849576Z",
     "iopub.status.idle": "2025-03-23T22:41:59.857990Z",
     "shell.execute_reply": "2025-03-23T22:41:59.857006Z",
     "shell.execute_reply.started": "2025-03-23T22:41:59.849919Z"
    },
    "trusted": true
   },
   "outputs": [
    {
     "name": "stderr",
     "output_type": "stream",
     "text": [
      "[nltk_data] Downloading package punkt to\n",
      "[nltk_data]     C:\\Users\\user\\AppData\\Roaming\\nltk_data...\n",
      "[nltk_data]   Package punkt is already up-to-date!\n"
     ]
    },
    {
     "data": {
      "text/plain": [
       "True"
      ]
     },
     "execution_count": 5,
     "metadata": {},
     "output_type": "execute_result"
    }
   ],
   "source": [
    "import gensim\n",
    "from nltk.tokenize import word_tokenize, sent_tokenize\n",
    "from nltk.corpus import stopwords\n",
    "from nltk.stem import WordNetLemmatizer\n",
    "import re\n",
    "from gensim.models import FastText\n",
    "import nltk\n",
    "import numpy as np\n",
    "from sklearn.metrics.pairwise import cosine_similarity\n",
    "\n",
    "\n",
    "# Download necessary resources (only the first time)\n",
    "nltk.download('punkt')\n"
   ]
  },
  {
   "cell_type": "code",
   "execution_count": 6,
   "metadata": {
    "execution": {
     "iopub.execute_input": "2025-03-23T22:42:34.956251Z",
     "iopub.status.busy": "2025-03-23T22:42:34.955780Z",
     "iopub.status.idle": "2025-03-23T22:42:34.962970Z",
     "shell.execute_reply": "2025-03-23T22:42:34.962027Z",
     "shell.execute_reply.started": "2025-03-23T22:42:34.956213Z"
    },
    "trusted": true
   },
   "outputs": [],
   "source": [
    "# Prétraitement\n",
    "def preprocess_text(text):\n",
    "    text = text.lower()\n",
    "    text = re.sub(r'[^a-zA-Z\\s]', '', text)  # Suppression des caractères non alphabétiques\n",
    "    tokens = word_tokenize(text)\n",
    "    stop_words = set(stopwords.words('english'))\n",
    "    tokens = [word for word in tokens if word not in stop_words]\n",
    "    lemmatizer = WordNetLemmatizer()\n",
    "    #tokens = [lemmatizer.lemmatize(word) for word in tokens]\n",
    "    tokens = [word for word in tokens if len(word) > 2 and len(word) < 20]\n",
    "    return tokens"
   ]
  },
  {
   "cell_type": "code",
   "execution_count": 7,
   "metadata": {
    "execution": {
     "iopub.execute_input": "2025-03-23T22:43:43.835444Z",
     "iopub.status.busy": "2025-03-23T22:43:43.835102Z",
     "iopub.status.idle": "2025-03-23T22:43:43.840732Z",
     "shell.execute_reply": "2025-03-23T22:43:43.839712Z",
     "shell.execute_reply.started": "2025-03-23T22:43:43.835420Z"
    },
    "trusted": true
   },
   "outputs": [],
   "source": [
    "def train_fasttext_model(all_job_des, all_cv_texts, vector_size=100, window=5, min_count=1, workers=4):\n",
    "   \n",
    "    # Preprocess all job descriptions and CVs\n",
    "    tokenized_jobs = [preprocess_text(text) for text in all_job_des]\n",
    "    tokenized_cvs = [preprocess_text(text) for text in all_cv_texts]\n",
    "\n",
    "    # Combine all tokenized texts into one corpus\n",
    "    corpus = tokenized_jobs + tokenized_cvs\n",
    "\n",
    "    # Train the FastText model\n",
    "    model = FastText(sentences=corpus, vector_size=vector_size, window=window, min_count=min_count, workers=workers)\n",
    "    \n",
    "    return model"
   ]
  },
  {
   "cell_type": "code",
   "execution_count": 8,
   "metadata": {
    "execution": {
     "iopub.execute_input": "2025-03-23T22:43:46.174390Z",
     "iopub.status.busy": "2025-03-23T22:43:46.174044Z",
     "iopub.status.idle": "2025-03-23T22:43:46.179056Z",
     "shell.execute_reply": "2025-03-23T22:43:46.178075Z",
     "shell.execute_reply.started": "2025-03-23T22:43:46.174365Z"
    },
    "trusted": true
   },
   "outputs": [],
   "source": [
    "def get_average_word_vector(tokens, model):\n",
    "    word_vectors = [model.wv[token] for token in tokens if token in model.wv]\n",
    "    if not word_vectors:\n",
    "        return np.zeros(model.vector_size)  # Return a zero vector if no valid words\n",
    "    return np.mean(word_vectors, axis=0)"
   ]
  },
  {
   "cell_type": "code",
   "execution_count": 9,
   "metadata": {
    "execution": {
     "iopub.execute_input": "2025-03-23T23:05:42.340568Z",
     "iopub.status.busy": "2025-03-23T23:05:42.340247Z",
     "iopub.status.idle": "2025-03-23T23:05:42.347467Z",
     "shell.execute_reply": "2025-03-23T23:05:42.346257Z",
     "shell.execute_reply.started": "2025-03-23T23:05:42.340543Z"
    },
    "trusted": true
   },
   "outputs": [],
   "source": [
    "\n",
    "def jd_cv_match_fastText(cv_details, jd_text, model):\n",
    "\n",
    "    # Tokenize the JD text\n",
    "    tokenized_jd = word_tokenize(jd_text.lower())\n",
    "\n",
    "    # Compute the average vector for the JD\n",
    "    jd_vector = get_average_word_vector(tokenized_jd, model)\n",
    "\n",
    "    # Compute similarity scores for each CV\n",
    "    results = []\n",
    "    for cv in cv_details:\n",
    "        tokenized_cv = word_tokenize(cv['text'].lower())\n",
    "        cv_vector = get_average_word_vector(tokenized_cv, model)\n",
    "        similarity_score = cosine_similarity([jd_vector], [cv_vector])[0][0]\n",
    "\n",
    "        results.append({\n",
    "            'name': cv['name'],\n",
    "            'path': cv['path'],\n",
    "            'similarity_score': similarity_score\n",
    "        })\n",
    "\n",
    "    # Sort results by similarity score (descending)\n",
    "    results.sort(key=lambda x: x['similarity_score'], reverse=True)\n",
    "\n",
    "    # Add rank to results\n",
    "    ranked_results = [{'rank': i + 1, 'name': result['name'], 'path': result['path'], 'similarity_score': result['similarity_score']} for i, result in enumerate(results)]\n",
    "\n",
    "    return ranked_results\n"
   ]
  },
  {
   "cell_type": "code",
   "execution_count": 10,
   "metadata": {
    "execution": {
     "iopub.execute_input": "2025-03-23T22:43:20.634502Z",
     "iopub.status.busy": "2025-03-23T22:43:20.634166Z",
     "iopub.status.idle": "2025-03-23T22:43:20.706668Z",
     "shell.execute_reply": "2025-03-23T22:43:20.705651Z",
     "shell.execute_reply.started": "2025-03-23T22:43:20.634475Z"
    },
    "trusted": true
   },
   "outputs": [],
   "source": [
    "all_job_des=df['full_job_text']\n",
    "cvs_df = pd.read_csv('UpdatedResumeDataSet.csv')\n",
    "all_cv_texts = cvs_df.Resume\n"
   ]
  },
  {
   "cell_type": "code",
   "execution_count": 11,
   "metadata": {
    "execution": {
     "iopub.execute_input": "2025-03-23T22:43:59.507343Z",
     "iopub.status.busy": "2025-03-23T22:43:59.506993Z",
     "iopub.status.idle": "2025-03-23T22:58:05.777318Z",
     "shell.execute_reply": "2025-03-23T22:58:05.772470Z",
     "shell.execute_reply.started": "2025-03-23T22:43:59.507315Z"
    },
    "trusted": true
   },
   "outputs": [],
   "source": [
    "# Train Word2Vec model\n",
    "fastText_model = train_fasttext_model(all_job_des, all_cv_texts)"
   ]
  },
  {
   "cell_type": "code",
   "execution_count": 12,
   "metadata": {
    "execution": {
     "iopub.execute_input": "2025-03-23T22:58:05.779889Z",
     "iopub.status.busy": "2025-03-23T22:58:05.779596Z",
     "iopub.status.idle": "2025-03-23T22:58:05.785448Z",
     "shell.execute_reply": "2025-03-23T22:58:05.784526Z",
     "shell.execute_reply.started": "2025-03-23T22:58:05.779864Z"
    },
    "trusted": true
   },
   "outputs": [],
   "source": [
    "cv_details_1 = [\n",
    "    {\n",
    "        'name': 'Amine B.',\n",
    "        'path': '/path/to/amine_b_cv.pdf',\n",
    "        'text': \"Ingénieur en développement web avec expertise en React et Node.js. \"\n",
    "                \"Expérience dans la création d'applications web modernes et scalables. \"\n",
    "                \"Maîtrise des API REST, Redux et déploiement sur AWS.\"\n",
    "    },\n",
    "    {\n",
    "        'name': 'Karim M.',\n",
    "        'path': '/path/to/sarah_m_cv.pdf',\n",
    "        'text': \"Spécialiste en science des données avec expertise en machine learning. \"\n",
    "                \"Expérience dans le développement de modèles prédictifs avec TensorFlow et PyTorch. \"\n",
    "                \"Compétences en manipulation de bases de données SQL et NoSQL.\"\n",
    "    },\n",
    "    {\n",
    "        'name': 'Omar K.',\n",
    "        'path': '/path/to/omar_k_cv.pdf',\n",
    "        'text': \"Développeur full-stack avec expérience en React, Node.js et MongoDB. \"\n",
    "                \"Travail sur des plateformes SaaS et e-commerce, intégration d'API tierces. \"\n",
    "                \"Passionné par le code propre et les méthodologies Agile.\"\n",
    "    }\n",
    "]\n",
    "\n",
    "# Exemple d’offre d'emploi (JD)\n",
    "jd_text_1 = (\n",
    "    \"Nous recherchons un développeur web expérimenté en React et Node.js. \"\n",
    "    \"Le candidat idéal doit maîtriser Redux, les API REST et avoir une expérience en déploiement cloud (AWS, GCP). \"\n",
    "    \"Une connaissance des bases de données SQL et NoSQL est un plus.\"\n",
    ")\n"
   ]
  },
  {
   "cell_type": "code",
   "execution_count": 13,
   "metadata": {
    "execution": {
     "iopub.execute_input": "2025-03-23T23:05:47.214304Z",
     "iopub.status.busy": "2025-03-23T23:05:47.213930Z",
     "iopub.status.idle": "2025-03-23T23:05:47.229996Z",
     "shell.execute_reply": "2025-03-23T23:05:47.228884Z",
     "shell.execute_reply.started": "2025-03-23T23:05:47.214273Z"
    },
    "trusted": true
   },
   "outputs": [
    {
     "name": "stdout",
     "output_type": "stream",
     "text": [
      "Name: Amine B., Similarity Score: 0.697260320186615\n",
      "Name: Omar K., Similarity Score: 0.5535682439804077\n",
      "Name: Karim M., Similarity Score: 0.5198121070861816\n"
     ]
    }
   ],
   "source": [
    "#jd_text=\"We are looking for an experienced Agriculture nvironments\"\n",
    "ranked_cvs = jd_cv_match_fastText(cv_details_1, jd_text_1,fastText_model)\n",
    "\n",
    "# Print the ranked results\n",
    "for result in ranked_cvs:\n",
    "    print(f\"Name: {result['name']}, Similarity Score: {result['similarity_score']}\")"
   ]
  },
  {
   "cell_type": "code",
   "execution_count": null,
   "metadata": {
    "trusted": true
   },
   "outputs": [],
   "source": []
  },
  {
   "cell_type": "code",
   "execution_count": null,
   "metadata": {
    "trusted": true
   },
   "outputs": [],
   "source": []
  },
  {
   "cell_type": "markdown",
   "metadata": {},
   "source": [
    "#### Evalute "
   ]
  },
  {
   "cell_type": "code",
   "execution_count": 14,
   "metadata": {
    "execution": {
     "iopub.execute_input": "2025-03-23T23:06:36.108996Z",
     "iopub.status.busy": "2025-03-23T23:06:36.108638Z",
     "iopub.status.idle": "2025-03-23T23:06:43.689728Z",
     "shell.execute_reply": "2025-03-23T23:06:43.688502Z",
     "shell.execute_reply.started": "2025-03-23T23:06:36.108965Z"
    },
    "trusted": true
   },
   "outputs": [
    {
     "name": "stdout",
     "output_type": "stream",
     "text": [
      "Requirement already satisfied: rouge-score in c:\\users\\user\\appdata\\local\\programs\\python\\python312\\lib\\site-packages (0.1.2)\n",
      "Requirement already satisfied: absl-py in c:\\users\\user\\appdata\\local\\programs\\python\\python312\\lib\\site-packages (from rouge-score) (2.2.1)\n",
      "Requirement already satisfied: nltk in c:\\users\\user\\appdata\\local\\programs\\python\\python312\\lib\\site-packages (from rouge-score) (3.9.1)\n",
      "Requirement already satisfied: numpy in c:\\users\\user\\appdata\\local\\programs\\python\\python312\\lib\\site-packages (from rouge-score) (1.26.4)\n",
      "Requirement already satisfied: six>=1.14.0 in c:\\users\\user\\appdata\\roaming\\python\\python312\\site-packages (from rouge-score) (1.16.0)\n",
      "Requirement already satisfied: click in c:\\users\\user\\appdata\\local\\programs\\python\\python312\\lib\\site-packages (from nltk->rouge-score) (8.1.7)\n",
      "Requirement already satisfied: joblib in c:\\users\\user\\appdata\\local\\programs\\python\\python312\\lib\\site-packages (from nltk->rouge-score) (1.4.2)\n",
      "Requirement already satisfied: regex>=2021.8.3 in c:\\users\\user\\appdata\\local\\programs\\python\\python312\\lib\\site-packages (from nltk->rouge-score) (2024.11.6)\n",
      "Requirement already satisfied: tqdm in c:\\users\\user\\appdata\\local\\programs\\python\\python312\\lib\\site-packages (from nltk->rouge-score) (4.66.5)\n",
      "Requirement already satisfied: colorama in c:\\users\\user\\appdata\\roaming\\python\\python312\\site-packages (from click->nltk->rouge-score) (0.4.6)\n"
     ]
    },
    {
     "name": "stderr",
     "output_type": "stream",
     "text": [
      "\n",
      "[notice] A new release of pip is available: 24.2 -> 25.0.1\n",
      "[notice] To update, run: python.exe -m pip install --upgrade pip\n"
     ]
    }
   ],
   "source": [
    "!pip install rouge-score\n"
   ]
  },
  {
   "cell_type": "code",
   "execution_count": 15,
   "metadata": {
    "execution": {
     "iopub.execute_input": "2025-03-23T23:06:22.636044Z",
     "iopub.status.busy": "2025-03-23T23:06:22.635575Z",
     "iopub.status.idle": "2025-03-23T23:06:22.646050Z",
     "shell.execute_reply": "2025-03-23T23:06:22.645158Z",
     "shell.execute_reply.started": "2025-03-23T23:06:22.635991Z"
    },
    "trusted": true
   },
   "outputs": [],
   "source": [
    "from nltk.tokenize import word_tokenize\n",
    "from sklearn.metrics.pairwise import cosine_similarity\n",
    "import numpy as np\n",
    "\n",
    "def get_average_word_vector(tokens, model):\n",
    "    word_vectors = [model.wv[token] for token in tokens if token in model.wv]\n",
    "    if not word_vectors:\n",
    "        return np.zeros(model.vector_size)  # Return a zero vector if no valid words\n",
    "    return np.mean(word_vectors, axis=0)\n",
    "\n",
    "def jd_cv_match_fastText(cvs_df, jd_texts, model):\n",
    "    \"\"\"\n",
    "    Given 100 JDs (in `jd_texts`), find top 10 CVs for each JD using Word2Vec.\n",
    "    \"\"\"\n",
    "    all_results = []\n",
    "\n",
    "    for jd_text in jd_texts:\n",
    "        # Tokenize the JD text\n",
    "        tokenized_jd = word_tokenize(jd_text.lower())\n",
    "\n",
    "        # Compute the average vector for the JD\n",
    "        jd_vector = get_average_word_vector(tokenized_jd, model)\n",
    "\n",
    "        # Compute similarity scores for each CV in the DataFrame\n",
    "        results = []\n",
    "        for index, row in cvs_df.iterrows():\n",
    "            # Tokenize the resume\n",
    "            tokenized_cv = word_tokenize(row['Resume'].lower())\n",
    "            cv_vector = get_average_word_vector(tokenized_cv, model)\n",
    "\n",
    "            # Compute cosine similarity\n",
    "            similarity_score = cosine_similarity([jd_vector], [cv_vector])[0][0]\n",
    "\n",
    "            results.append({\n",
    "                'similarity_score': similarity_score,\n",
    "                'resume_text': row['Resume']  # Store the resume text instead of name/path\n",
    "            })\n",
    "\n",
    "        # Sort results by similarity score (descending)\n",
    "        results.sort(key=lambda x: x['similarity_score'], reverse=True)\n",
    "\n",
    "        # Keep top 10 CVs\n",
    "        top_10_results = [{'rank': i + 1, 'resume_text': result['resume_text'], 'similarity_score': result['similarity_score']} for i, result in enumerate(results[:10])]\n",
    "\n",
    "        # Append to all_results\n",
    "        all_results.append(top_10_results)\n",
    "\n",
    "    return all_results\n"
   ]
  },
  {
   "cell_type": "code",
   "execution_count": 16,
   "metadata": {
    "execution": {
     "iopub.execute_input": "2025-03-23T23:06:45.329380Z",
     "iopub.status.busy": "2025-03-23T23:06:45.329015Z",
     "iopub.status.idle": "2025-03-23T23:06:45.712124Z",
     "shell.execute_reply": "2025-03-23T23:06:45.711333Z",
     "shell.execute_reply.started": "2025-03-23T23:06:45.329353Z"
    },
    "trusted": true
   },
   "outputs": [],
   "source": [
    "from rouge_score import rouge_scorer\n",
    "import numpy as np\n",
    "\n",
    "def compute_average_rouge_recall(jd_texts, ranked_results):\n",
    "    \"\"\"\n",
    "    Compute the average recall values of ROUGE-1 for the top 10 matched resumes across 100 JDs.\n",
    "\n",
    "    jd_texts: List of 100 Job Descriptions (JDs).\n",
    "    ranked_results: List of lists, where each sublist contains top 10 CVs for a JD.\n",
    "\n",
    "    Returns:\n",
    "        Average ROUGE-1 recall score across 100 JDs.\n",
    "    \"\"\"\n",
    "    scorer = rouge_scorer.RougeScorer(['rouge1'], use_stemmer=True)\n",
    "    rouge_recall_values = []\n",
    "\n",
    "    for jd_text, top_10_cvs in zip(jd_texts, ranked_results):\n",
    "        jd_reference = jd_text  # JD is the reference\n",
    "        recall_scores = []\n",
    "\n",
    "        for cv in top_10_cvs:\n",
    "            cv_text = cv['resume_text']  # Extract CV text\n",
    "            rouge_scores = scorer.score(jd_reference, cv_text)\n",
    "            recall_scores.append(rouge_scores['rouge1'].recall)  # Store recall score\n",
    "\n",
    "        # Compute the average recall for this JD's top 10 resumes\n",
    "        avg_recall_for_jd = np.mean(recall_scores)\n",
    "        rouge_recall_values.append(avg_recall_for_jd)\n",
    "\n",
    "    # Compute the overall average recall across all 100 JDs\n",
    "    overall_avg_rouge_recall = np.mean(rouge_recall_values)\n",
    "    \n",
    "    return overall_avg_rouge_recall\n"
   ]
  },
  {
   "cell_type": "code",
   "execution_count": 17,
   "metadata": {
    "execution": {
     "iopub.execute_input": "2025-03-23T23:06:50.799142Z",
     "iopub.status.busy": "2025-03-23T23:06:50.798760Z",
     "iopub.status.idle": "2025-03-23T23:06:50.823579Z",
     "shell.execute_reply": "2025-03-23T23:06:50.822640Z",
     "shell.execute_reply.started": "2025-03-23T23:06:50.799077Z"
    },
    "trusted": true
   },
   "outputs": [],
   "source": [
    "import pandas as pd\n",
    "\n",
    "def select_random_jds(df, num_samples=100, seed=42):\n",
    "    \n",
    "    sampled_jds = df.sample(n=num_samples, random_state=seed)  # Randomly select 100 JDs\n",
    "    return sampled_jds['full_job_text'].tolist()  # Return as a list of text\n",
    "\n",
    "# Example Usage\n",
    "random_jds = select_random_jds(df)  # Select 100 random JDs\n"
   ]
  },
  {
   "cell_type": "code",
   "execution_count": 18,
   "metadata": {
    "execution": {
     "iopub.execute_input": "2025-03-23T23:07:03.098171Z",
     "iopub.status.busy": "2025-03-23T23:07:03.097805Z",
     "iopub.status.idle": "2025-03-23T23:07:03.103843Z",
     "shell.execute_reply": "2025-03-23T23:07:03.103014Z",
     "shell.execute_reply.started": "2025-03-23T23:07:03.098131Z"
    },
    "trusted": true
   },
   "outputs": [
    {
     "data": {
      "text/plain": [
       "<gensim.models.fasttext.FastText at 0x1cf8c427020>"
      ]
     },
     "execution_count": 18,
     "metadata": {},
     "output_type": "execute_result"
    }
   ],
   "source": [
    "fastText_model"
   ]
  },
  {
   "cell_type": "code",
   "execution_count": 19,
   "metadata": {
    "execution": {
     "iopub.execute_input": "2025-03-23T23:08:14.299480Z",
     "iopub.status.busy": "2025-03-23T23:08:14.298453Z",
     "iopub.status.idle": "2025-03-23T23:22:08.408688Z",
     "shell.execute_reply": "2025-03-23T23:22:08.407338Z",
     "shell.execute_reply.started": "2025-03-23T23:08:14.299440Z"
    },
    "trusted": true
   },
   "outputs": [],
   "source": [
    "ranked_results=jd_cv_match_fastText(cvs_df, random_jds, fastText_model)"
   ]
  },
  {
   "cell_type": "code",
   "execution_count": 20,
   "metadata": {
    "execution": {
     "iopub.execute_input": "2025-03-23T23:26:18.314208Z",
     "iopub.status.busy": "2025-03-23T23:26:18.313693Z",
     "iopub.status.idle": "2025-03-23T23:26:29.227676Z",
     "shell.execute_reply": "2025-03-23T23:26:29.226636Z",
     "shell.execute_reply.started": "2025-03-23T23:26:18.314166Z"
    },
    "trusted": true
   },
   "outputs": [],
   "source": [
    "overall_avg_rouge_recall=compute_average_rouge_recall(random_jds, ranked_results)"
   ]
  },
  {
   "cell_type": "code",
   "execution_count": 21,
   "metadata": {
    "execution": {
     "iopub.execute_input": "2025-03-23T23:29:52.014879Z",
     "iopub.status.busy": "2025-03-23T23:29:52.014463Z",
     "iopub.status.idle": "2025-03-23T23:29:52.021525Z",
     "shell.execute_reply": "2025-03-23T23:29:52.020538Z",
     "shell.execute_reply.started": "2025-03-23T23:29:52.014846Z"
    },
    "trusted": true
   },
   "outputs": [
    {
     "data": {
      "text/plain": [
       "0.46877189748656956"
      ]
     },
     "execution_count": 21,
     "metadata": {},
     "output_type": "execute_result"
    }
   ],
   "source": [
    "overall_avg_rouge_recall"
   ]
  }
 ],
 "metadata": {
  "kaggle": {
   "accelerator": "none",
   "dataSources": [
    {
     "datasetId": 1177531,
     "sourceId": 1971405,
     "sourceType": "datasetVersion"
    },
    {
     "datasetId": 3749643,
     "sourceId": 6488828,
     "sourceType": "datasetVersion"
    }
   ],
   "dockerImageVersionId": 30918,
   "isGpuEnabled": false,
   "isInternetEnabled": true,
   "language": "python",
   "sourceType": "notebook"
  },
  "kernelspec": {
   "display_name": "Python 3",
   "language": "python",
   "name": "python3"
  },
  "language_info": {
   "codemirror_mode": {
    "name": "ipython",
    "version": 3
   },
   "file_extension": ".py",
   "mimetype": "text/x-python",
   "name": "python",
   "nbconvert_exporter": "python",
   "pygments_lexer": "ipython3",
   "version": "3.12.6"
  }
 },
 "nbformat": 4,
 "nbformat_minor": 4
}
