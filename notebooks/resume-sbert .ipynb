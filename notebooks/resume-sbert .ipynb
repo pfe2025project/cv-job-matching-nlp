{
 "cells": [
  {
   "cell_type": "code",
   "execution_count": 9,
   "id": "66904901-c557-4796-9618-002e26bb454f",
   "metadata": {},
   "outputs": [
    {
     "name": "stdout",
     "output_type": "stream",
     "text": [
      "Requirement already satisfied: sentence-transformers in d:\\anaconda\\lib\\site-packages (4.1.0)\n",
      "Requirement already satisfied: scikit-learn in d:\\anaconda\\lib\\site-packages (1.3.0)\n",
      "Requirement already satisfied: matplotlib in d:\\anaconda\\lib\\site-packages (3.9.2)\n",
      "Requirement already satisfied: seaborn in d:\\anaconda\\lib\\site-packages (0.13.2)\n",
      "Requirement already satisfied: nltk in d:\\anaconda\\lib\\site-packages (3.9.1)\n",
      "Requirement already satisfied: rouge-score in d:\\anaconda\\lib\\site-packages (0.1.2)\n",
      "Requirement already satisfied: sacrebleu in d:\\anaconda\\lib\\site-packages (2.5.1)\n",
      "Requirement already satisfied: transformers<5.0.0,>=4.41.0 in d:\\anaconda\\lib\\site-packages (from sentence-transformers) (4.49.0)\n",
      "Requirement already satisfied: tqdm in d:\\anaconda\\lib\\site-packages (from sentence-transformers) (4.66.5)\n",
      "Requirement already satisfied: torch>=1.11.0 in d:\\anaconda\\lib\\site-packages (from sentence-transformers) (2.5.1+cu121)\n",
      "Requirement already satisfied: scipy in d:\\anaconda\\lib\\site-packages (from sentence-transformers) (1.13.1)\n",
      "Requirement already satisfied: huggingface-hub>=0.20.0 in d:\\anaconda\\lib\\site-packages (from sentence-transformers) (0.29.1)\n",
      "Requirement already satisfied: Pillow in d:\\anaconda\\lib\\site-packages (from sentence-transformers) (10.4.0)\n",
      "Requirement already satisfied: typing_extensions>=4.5.0 in d:\\anaconda\\lib\\site-packages (from sentence-transformers) (4.11.0)\n",
      "Requirement already satisfied: numpy>=1.17.3 in d:\\anaconda\\lib\\site-packages (from scikit-learn) (1.26.4)\n",
      "Requirement already satisfied: joblib>=1.1.1 in d:\\anaconda\\lib\\site-packages (from scikit-learn) (1.4.2)\n",
      "Requirement already satisfied: threadpoolctl>=2.0.0 in d:\\anaconda\\lib\\site-packages (from scikit-learn) (3.5.0)\n",
      "Requirement already satisfied: contourpy>=1.0.1 in d:\\anaconda\\lib\\site-packages (from matplotlib) (1.2.0)\n",
      "Requirement already satisfied: cycler>=0.10 in d:\\anaconda\\lib\\site-packages (from matplotlib) (0.11.0)\n",
      "Requirement already satisfied: fonttools>=4.22.0 in d:\\anaconda\\lib\\site-packages (from matplotlib) (4.51.0)\n",
      "Requirement already satisfied: kiwisolver>=1.3.1 in d:\\anaconda\\lib\\site-packages (from matplotlib) (1.4.4)\n",
      "Requirement already satisfied: packaging>=20.0 in d:\\anaconda\\lib\\site-packages (from matplotlib) (24.1)\n",
      "Requirement already satisfied: pyparsing>=2.3.1 in d:\\anaconda\\lib\\site-packages (from matplotlib) (3.1.2)\n",
      "Requirement already satisfied: python-dateutil>=2.7 in d:\\anaconda\\lib\\site-packages (from matplotlib) (2.9.0.post0)\n",
      "Requirement already satisfied: pandas>=1.2 in d:\\anaconda\\lib\\site-packages (from seaborn) (2.2.2)\n",
      "Requirement already satisfied: click in d:\\anaconda\\lib\\site-packages (from nltk) (8.1.7)\n",
      "Requirement already satisfied: regex>=2021.8.3 in d:\\anaconda\\lib\\site-packages (from nltk) (2024.9.11)\n",
      "Requirement already satisfied: absl-py in d:\\anaconda\\lib\\site-packages (from rouge-score) (2.2.2)\n",
      "Requirement already satisfied: six>=1.14.0 in d:\\anaconda\\lib\\site-packages (from rouge-score) (1.16.0)\n",
      "Requirement already satisfied: portalocker in d:\\anaconda\\lib\\site-packages (from sacrebleu) (3.1.1)\n",
      "Requirement already satisfied: tabulate>=0.8.9 in d:\\anaconda\\lib\\site-packages (from sacrebleu) (0.9.0)\n",
      "Requirement already satisfied: colorama in d:\\anaconda\\lib\\site-packages (from sacrebleu) (0.4.6)\n",
      "Requirement already satisfied: lxml in d:\\anaconda\\lib\\site-packages (from sacrebleu) (5.2.1)\n",
      "Requirement already satisfied: filelock in d:\\anaconda\\lib\\site-packages (from huggingface-hub>=0.20.0->sentence-transformers) (3.13.1)\n",
      "Requirement already satisfied: fsspec>=2023.5.0 in d:\\anaconda\\lib\\site-packages (from huggingface-hub>=0.20.0->sentence-transformers) (2024.6.1)\n",
      "Requirement already satisfied: pyyaml>=5.1 in d:\\anaconda\\lib\\site-packages (from huggingface-hub>=0.20.0->sentence-transformers) (6.0.1)\n",
      "Requirement already satisfied: requests in d:\\anaconda\\lib\\site-packages (from huggingface-hub>=0.20.0->sentence-transformers) (2.32.3)\n",
      "Requirement already satisfied: pytz>=2020.1 in d:\\anaconda\\lib\\site-packages (from pandas>=1.2->seaborn) (2024.1)\n",
      "Requirement already satisfied: tzdata>=2022.7 in d:\\anaconda\\lib\\site-packages (from pandas>=1.2->seaborn) (2023.3)\n",
      "Requirement already satisfied: networkx in d:\\anaconda\\lib\\site-packages (from torch>=1.11.0->sentence-transformers) (3.3)\n",
      "Requirement already satisfied: jinja2 in d:\\anaconda\\lib\\site-packages (from torch>=1.11.0->sentence-transformers) (3.1.4)\n",
      "Requirement already satisfied: setuptools in d:\\anaconda\\lib\\site-packages (from torch>=1.11.0->sentence-transformers) (75.1.0)\n",
      "Requirement already satisfied: sympy==1.13.1 in d:\\anaconda\\lib\\site-packages (from torch>=1.11.0->sentence-transformers) (1.13.1)\n",
      "Requirement already satisfied: mpmath<1.4,>=1.1.0 in d:\\anaconda\\lib\\site-packages (from sympy==1.13.1->torch>=1.11.0->sentence-transformers) (1.3.0)\n",
      "Requirement already satisfied: tokenizers<0.22,>=0.21 in d:\\anaconda\\lib\\site-packages (from transformers<5.0.0,>=4.41.0->sentence-transformers) (0.21.0)\n",
      "Requirement already satisfied: safetensors>=0.4.1 in d:\\anaconda\\lib\\site-packages (from transformers<5.0.0,>=4.41.0->sentence-transformers) (0.5.2)\n",
      "Requirement already satisfied: pywin32>=226 in d:\\anaconda\\lib\\site-packages (from portalocker->sacrebleu) (305.1)\n",
      "Requirement already satisfied: MarkupSafe>=2.0 in d:\\anaconda\\lib\\site-packages (from jinja2->torch>=1.11.0->sentence-transformers) (2.1.3)\n",
      "Requirement already satisfied: charset-normalizer<4,>=2 in d:\\anaconda\\lib\\site-packages (from requests->huggingface-hub>=0.20.0->sentence-transformers) (3.3.2)\n",
      "Requirement already satisfied: idna<4,>=2.5 in d:\\anaconda\\lib\\site-packages (from requests->huggingface-hub>=0.20.0->sentence-transformers) (3.7)\n",
      "Requirement already satisfied: urllib3<3,>=1.21.1 in d:\\anaconda\\lib\\site-packages (from requests->huggingface-hub>=0.20.0->sentence-transformers) (2.2.3)\n",
      "Requirement already satisfied: certifi>=2017.4.17 in d:\\anaconda\\lib\\site-packages (from requests->huggingface-hub>=0.20.0->sentence-transformers) (2025.1.31)\n"
     ]
    }
   ],
   "source": [
    "!pip install sentence-transformers scikit-learn matplotlib seaborn nltk rouge-score sacrebleu"
   ]
  },
  {
   "cell_type": "code",
   "execution_count": 197,
   "id": "1f52f8e5-a3e4-42bc-842a-7874756a6221",
   "metadata": {},
   "outputs": [
    {
     "name": "stderr",
     "output_type": "stream",
     "text": [
      "[nltk_data] Downloading package punkt to\n",
      "[nltk_data]     C:\\Users\\MSI\\AppData\\Roaming\\nltk_data...\n",
      "[nltk_data]   Package punkt is already up-to-date!\n"
     ]
    },
    {
     "data": {
      "text/plain": [
       "True"
      ]
     },
     "execution_count": 197,
     "metadata": {},
     "output_type": "execute_result"
    }
   ],
   "source": [
    "import pandas as pd\n",
    "import numpy as np\n",
    "from sentence_transformers import SentenceTransformer\n",
    "from sklearn.model_selection import train_test_split\n",
    "from sklearn.metrics import accuracy_score, f1_score, roc_auc_score, confusion_matrix, classification_report\n",
    "import matplotlib.pyplot as plt\n",
    "import seaborn as sns\n",
    "import nltk\n",
    "from rouge_score import rouge_scorer\n",
    "import sacrebleu\n",
    "nltk.download('punkt')"
   ]
  },
  {
   "cell_type": "code",
   "execution_count": 199,
   "id": "38c29ce2-4675-468f-b1a3-3c5b498a55f4",
   "metadata": {},
   "outputs": [
    {
     "name": "stdout",
     "output_type": "stream",
     "text": [
      "                                         Resume_Text  \\\n",
      "0  Skills: Patient Care, Medical Terminology, EHR...   \n",
      "1  Skills: Curriculum Development, Classroom Mana...   \n",
      "2  Skills: Financial Analysis, Risk Assessment, G...   \n",
      "3  Skills: Pharmacology, Clinical Research, FDA R...   \n",
      "4  Skills: AutoCAD, Structural Design, Building C...   \n",
      "\n",
      "                                     Job_Description  Match_Label  \n",
      "0  Seeking RN with 3+ years experience in acute c...            1  \n",
      "1  Mathematics teacher needed with experience in ...            1  \n",
      "2  Corporate finance manager required with CFA ce...            1  \n",
      "3  Marketing manager needed for OTC healthcare pr...            0  \n",
      "4  Architectural designer position requiring BIM ...            0  \n",
      "Match_Label\n",
      "1    801\n",
      "0    412\n",
      "Name: count, dtype: int64\n"
     ]
    }
   ],
   "source": [
    "df = pd.read_csv(r'd:\\s\\ai-project\\data\\labeled_resume_job_dataset.csv')\n",
    "print(df.head())\n",
    "print(df['Match_Label'].value_counts())"
   ]
  },
  {
   "cell_type": "code",
   "execution_count": 201,
   "id": "28f42ef4-50bc-42b9-ae4e-f7a58ba8d612",
   "metadata": {},
   "outputs": [
    {
     "name": "stdout",
     "output_type": "stream",
     "text": [
      "Train size: 970, Test size: 243\n"
     ]
    }
   ],
   "source": [
    "X = df[['Resume_Text', 'Job_Description']]\n",
    "y = df['Match_Label']\n",
    "X_train, X_test, y_train, y_test = train_test_split(X, y, test_size=0.2, stratify=y, random_state=42)\n",
    "print(f\"Train size: {len(X_train)}, Test size: {len(X_test)}\")"
   ]
  },
  {
   "cell_type": "code",
   "execution_count": 223,
   "id": "580e763e-0a15-4477-b001-ea0ef891c486",
   "metadata": {},
   "outputs": [
    {
     "data": {
      "application/vnd.jupyter.widget-view+json": {
       "model_id": "ec12ae600bb34c3ab405af0826449a4e",
       "version_major": 2,
       "version_minor": 0
      },
      "text/plain": [
       "modules.json:   0%|          | 0.00/349 [00:00<?, ?B/s]"
      ]
     },
     "metadata": {},
     "output_type": "display_data"
    },
    {
     "data": {
      "application/vnd.jupyter.widget-view+json": {
       "model_id": "330236d82b2c47e18102278267f03abe",
       "version_major": 2,
       "version_minor": 0
      },
      "text/plain": [
       "config_sentence_transformers.json:   0%|          | 0.00/116 [00:00<?, ?B/s]"
      ]
     },
     "metadata": {},
     "output_type": "display_data"
    },
    {
     "data": {
      "application/vnd.jupyter.widget-view+json": {
       "model_id": "9ec9ec308a1245af95d8622cbde93496",
       "version_major": 2,
       "version_minor": 0
      },
      "text/plain": [
       "README.md:   0%|          | 0.00/10.4k [00:00<?, ?B/s]"
      ]
     },
     "metadata": {},
     "output_type": "display_data"
    },
    {
     "data": {
      "application/vnd.jupyter.widget-view+json": {
       "model_id": "2a0bd96b7d29454eb10e96cec801b959",
       "version_major": 2,
       "version_minor": 0
      },
      "text/plain": [
       "sentence_bert_config.json:   0%|          | 0.00/53.0 [00:00<?, ?B/s]"
      ]
     },
     "metadata": {},
     "output_type": "display_data"
    },
    {
     "data": {
      "application/vnd.jupyter.widget-view+json": {
       "model_id": "e3c83dc80cf8477cb9bd7b5ee060123b",
       "version_major": 2,
       "version_minor": 0
      },
      "text/plain": [
       "config.json:   0%|          | 0.00/571 [00:00<?, ?B/s]"
      ]
     },
     "metadata": {},
     "output_type": "display_data"
    },
    {
     "data": {
      "application/vnd.jupyter.widget-view+json": {
       "model_id": "0d044362762840f5b595b4971fd9efa3",
       "version_major": 2,
       "version_minor": 0
      },
      "text/plain": [
       "model.safetensors:   0%|          | 0.00/438M [00:00<?, ?B/s]"
      ]
     },
     "metadata": {},
     "output_type": "display_data"
    },
    {
     "data": {
      "application/vnd.jupyter.widget-view+json": {
       "model_id": "e4aba021519944979b4a16936b45d8ef",
       "version_major": 2,
       "version_minor": 0
      },
      "text/plain": [
       "tokenizer_config.json:   0%|          | 0.00/363 [00:00<?, ?B/s]"
      ]
     },
     "metadata": {},
     "output_type": "display_data"
    },
    {
     "data": {
      "application/vnd.jupyter.widget-view+json": {
       "model_id": "be4c312fe32f48b9b4e205f21195b279",
       "version_major": 2,
       "version_minor": 0
      },
      "text/plain": [
       "vocab.txt:   0%|          | 0.00/232k [00:00<?, ?B/s]"
      ]
     },
     "metadata": {},
     "output_type": "display_data"
    },
    {
     "data": {
      "application/vnd.jupyter.widget-view+json": {
       "model_id": "1b41c8120ab84e9c8e7496ced7c3b879",
       "version_major": 2,
       "version_minor": 0
      },
      "text/plain": [
       "tokenizer.json:   0%|          | 0.00/466k [00:00<?, ?B/s]"
      ]
     },
     "metadata": {},
     "output_type": "display_data"
    },
    {
     "data": {
      "application/vnd.jupyter.widget-view+json": {
       "model_id": "84998b43c7614a0c810c69686ad57673",
       "version_major": 2,
       "version_minor": 0
      },
      "text/plain": [
       "special_tokens_map.json:   0%|          | 0.00/239 [00:00<?, ?B/s]"
      ]
     },
     "metadata": {},
     "output_type": "display_data"
    },
    {
     "data": {
      "application/vnd.jupyter.widget-view+json": {
       "model_id": "2c79ff0cf117475598154a95e5fec34e",
       "version_major": 2,
       "version_minor": 0
      },
      "text/plain": [
       "config.json:   0%|          | 0.00/190 [00:00<?, ?B/s]"
      ]
     },
     "metadata": {},
     "output_type": "display_data"
    }
   ],
   "source": [
    "# Load a pre-trained SBERT model\n",
    "model = SentenceTransformer('all-mpnet-base-v2')\n",
    "\n",
    "def compute_similarity(resumes, jobs):\n",
    "    resume_emb = model.encode(resumes, convert_to_tensor=True)\n",
    "    job_emb = model.encode(jobs, convert_to_tensor=True)\n",
    "    # Cosine similarity\n",
    "    sim = (resume_emb * job_emb).sum(dim=1) / (resume_emb.norm(dim=1) * job_emb.norm(dim=1))\n",
    "    return sim.cpu().numpy()\n",
    "\n",
    "# Compute similarities for train and test\n",
    "train_sim = compute_similarity(X_train['Resume_Text'].tolist(), X_train['Job_Description'].tolist())\n",
    "test_sim = compute_similarity(X_test['Resume_Text'].tolist(), X_test['Job_Description'].tolist())"
   ]
  },
  {
   "cell_type": "code",
   "execution_count": 225,
   "id": "a7e5a686-8860-466f-b86d-ffab3d66ea5a",
   "metadata": {},
   "outputs": [
    {
     "name": "stdout",
     "output_type": "stream",
     "text": [
      "Optimal threshold: 0.598\n"
     ]
    }
   ],
   "source": [
    "from sklearn.metrics import roc_curve\n",
    "\n",
    "fpr, tpr, thresholds = roc_curve(y_train, train_sim)\n",
    "optimal_idx = np.argmax(tpr - fpr)\n",
    "optimal_threshold = thresholds[optimal_idx]\n",
    "print(f\"Optimal threshold: {optimal_threshold:.3f}\")"
   ]
  },
  {
   "cell_type": "code",
   "execution_count": 227,
   "id": "05484d66-2809-4d81-8103-e154238fdfc7",
   "metadata": {},
   "outputs": [
    {
     "name": "stdout",
     "output_type": "stream",
     "text": [
      "Accuracy: 0.856, F1: 0.881, ROC-AUC: 0.877\n",
      "              precision    recall  f1-score   support\n",
      "\n",
      "           0       0.72      0.95      0.82        83\n",
      "           1       0.97      0.81      0.88       160\n",
      "\n",
      "    accuracy                           0.86       243\n",
      "   macro avg       0.84      0.88      0.85       243\n",
      "weighted avg       0.88      0.86      0.86       243\n",
      "\n"
     ]
    }
   ],
   "source": [
    "y_pred = (test_sim >= optimal_threshold).astype(int)\n",
    "acc = accuracy_score(y_test, y_pred)\n",
    "f1 = f1_score(y_test, y_pred)\n",
    "roc_auc = roc_auc_score(y_test, test_sim)\n",
    "print(f\"Accuracy: {acc:.3f}, F1: {f1:.3f}, ROC-AUC: {roc_auc:.3f}\")\n",
    "print(classification_report(y_test, y_pred))"
   ]
  },
  {
   "cell_type": "code",
   "execution_count": 229,
   "id": "5eadad78-263f-4ece-b29a-c3f79c357571",
   "metadata": {},
   "outputs": [],
   "source": [
    "# Extract features for train and test sets\n",
    "train_features = np.array([extract_features(resume, job) for resume, job in zip(X_train['Resume_Text'], X_train['Job_Description'])])\n",
    "test_features = np.array([extract_features(resume, job) for resume, job in zip(X_test['Resume_Text'], X_test['Job_Description'])])"
   ]
  },
  {
   "cell_type": "code",
   "execution_count": 230,
   "id": "4f9d33ec-fd1b-42f2-9fe9-7a8835b45cee",
   "metadata": {},
   "outputs": [
    {
     "data": {
      "text/html": [
       "<style>#sk-container-id-5 {color: black;}#sk-container-id-5 pre{padding: 0;}#sk-container-id-5 div.sk-toggleable {background-color: white;}#sk-container-id-5 label.sk-toggleable__label {cursor: pointer;display: block;width: 100%;margin-bottom: 0;padding: 0.3em;box-sizing: border-box;text-align: center;}#sk-container-id-5 label.sk-toggleable__label-arrow:before {content: \"▸\";float: left;margin-right: 0.25em;color: #696969;}#sk-container-id-5 label.sk-toggleable__label-arrow:hover:before {color: black;}#sk-container-id-5 div.sk-estimator:hover label.sk-toggleable__label-arrow:before {color: black;}#sk-container-id-5 div.sk-toggleable__content {max-height: 0;max-width: 0;overflow: hidden;text-align: left;background-color: #f0f8ff;}#sk-container-id-5 div.sk-toggleable__content pre {margin: 0.2em;color: black;border-radius: 0.25em;background-color: #f0f8ff;}#sk-container-id-5 input.sk-toggleable__control:checked~div.sk-toggleable__content {max-height: 200px;max-width: 100%;overflow: auto;}#sk-container-id-5 input.sk-toggleable__control:checked~label.sk-toggleable__label-arrow:before {content: \"▾\";}#sk-container-id-5 div.sk-estimator input.sk-toggleable__control:checked~label.sk-toggleable__label {background-color: #d4ebff;}#sk-container-id-5 div.sk-label input.sk-toggleable__control:checked~label.sk-toggleable__label {background-color: #d4ebff;}#sk-container-id-5 input.sk-hidden--visually {border: 0;clip: rect(1px 1px 1px 1px);clip: rect(1px, 1px, 1px, 1px);height: 1px;margin: -1px;overflow: hidden;padding: 0;position: absolute;width: 1px;}#sk-container-id-5 div.sk-estimator {font-family: monospace;background-color: #f0f8ff;border: 1px dotted black;border-radius: 0.25em;box-sizing: border-box;margin-bottom: 0.5em;}#sk-container-id-5 div.sk-estimator:hover {background-color: #d4ebff;}#sk-container-id-5 div.sk-parallel-item::after {content: \"\";width: 100%;border-bottom: 1px solid gray;flex-grow: 1;}#sk-container-id-5 div.sk-label:hover label.sk-toggleable__label {background-color: #d4ebff;}#sk-container-id-5 div.sk-serial::before {content: \"\";position: absolute;border-left: 1px solid gray;box-sizing: border-box;top: 0;bottom: 0;left: 50%;z-index: 0;}#sk-container-id-5 div.sk-serial {display: flex;flex-direction: column;align-items: center;background-color: white;padding-right: 0.2em;padding-left: 0.2em;position: relative;}#sk-container-id-5 div.sk-item {position: relative;z-index: 1;}#sk-container-id-5 div.sk-parallel {display: flex;align-items: stretch;justify-content: center;background-color: white;position: relative;}#sk-container-id-5 div.sk-item::before, #sk-container-id-5 div.sk-parallel-item::before {content: \"\";position: absolute;border-left: 1px solid gray;box-sizing: border-box;top: 0;bottom: 0;left: 50%;z-index: -1;}#sk-container-id-5 div.sk-parallel-item {display: flex;flex-direction: column;z-index: 1;position: relative;background-color: white;}#sk-container-id-5 div.sk-parallel-item:first-child::after {align-self: flex-end;width: 50%;}#sk-container-id-5 div.sk-parallel-item:last-child::after {align-self: flex-start;width: 50%;}#sk-container-id-5 div.sk-parallel-item:only-child::after {width: 0;}#sk-container-id-5 div.sk-dashed-wrapped {border: 1px dashed gray;margin: 0 0.4em 0.5em 0.4em;box-sizing: border-box;padding-bottom: 0.4em;background-color: white;}#sk-container-id-5 div.sk-label label {font-family: monospace;font-weight: bold;display: inline-block;line-height: 1.2em;}#sk-container-id-5 div.sk-label-container {text-align: center;}#sk-container-id-5 div.sk-container {/* jupyter's `normalize.less` sets `[hidden] { display: none; }` but bootstrap.min.css set `[hidden] { display: none !important; }` so we also need the `!important` here to be able to override the default hidden behavior on the sphinx rendered scikit-learn.org. See: https://github.com/scikit-learn/scikit-learn/issues/21755 */display: inline-block !important;position: relative;}#sk-container-id-5 div.sk-text-repr-fallback {display: none;}</style><div id=\"sk-container-id-5\" class=\"sk-top-container\"><div class=\"sk-text-repr-fallback\"><pre>LogisticRegression(class_weight=&#x27;balanced&#x27;, random_state=42)</pre><b>In a Jupyter environment, please rerun this cell to show the HTML representation or trust the notebook. <br />On GitHub, the HTML representation is unable to render, please try loading this page with nbviewer.org.</b></div><div class=\"sk-container\" hidden><div class=\"sk-item\"><div class=\"sk-estimator sk-toggleable\"><input class=\"sk-toggleable__control sk-hidden--visually\" id=\"sk-estimator-id-5\" type=\"checkbox\" checked><label for=\"sk-estimator-id-5\" class=\"sk-toggleable__label sk-toggleable__label-arrow\">LogisticRegression</label><div class=\"sk-toggleable__content\"><pre>LogisticRegression(class_weight=&#x27;balanced&#x27;, random_state=42)</pre></div></div></div></div></div>"
      ],
      "text/plain": [
       "LogisticRegression(class_weight='balanced', random_state=42)"
      ]
     },
     "execution_count": 230,
     "metadata": {},
     "output_type": "execute_result"
    }
   ],
   "source": [
    "# Combine similarity and contextual features\n",
    "train_X = np.hstack([train_sim.reshape(-1, 1), train_features])\n",
    "test_X = np.hstack([test_sim.reshape(-1, 1), test_features])\n",
    "\n",
    "# Train a logistic regression classifier\n",
    "clf = LogisticRegression(class_weight='balanced', random_state=42)  # Balanced weights for better recall\n",
    "clf.fit(train_X, y_train)"
   ]
  },
  {
   "cell_type": "code",
   "execution_count": 231,
   "id": "ebca103a-5ebb-484e-a80b-79670254ac57",
   "metadata": {},
   "outputs": [
    {
     "name": "stdout",
     "output_type": "stream",
     "text": [
      "Accuracy: 0.835, F1: 0.864, ROC-AUC: 0.885\n",
      "              precision    recall  f1-score   support\n",
      "\n",
      "           0       0.70      0.92      0.79        83\n",
      "           1       0.95      0.79      0.86       160\n",
      "\n",
      "    accuracy                           0.84       243\n",
      "   macro avg       0.82      0.85      0.83       243\n",
      "weighted avg       0.86      0.84      0.84       243\n",
      "\n"
     ]
    }
   ],
   "source": [
    "# Predict and evaluate\n",
    "y_pred = clf.predict(test_X)\n",
    "acc = accuracy_score(y_test, y_pred)\n",
    "f1 = f1_score(y_test, y_pred)\n",
    "roc_auc = roc_auc_score(y_test, clf.predict_proba(test_X)[:, 1])\n",
    "print(f\"Accuracy: {acc:.3f}, F1: {f1:.3f}, ROC-AUC: {roc_auc:.3f}\")\n",
    "print(classification_report(y_test, y_pred))"
   ]
  },
  {
   "cell_type": "code",
   "execution_count": 232,
   "id": "5a08ec90-f5b5-4622-843b-b16c6819240f",
   "metadata": {},
   "outputs": [
    {
     "data": {
      "image/png": "[encoded data removed]",
      "text/plain": [
       "<Figure size 640x480 with 2 Axes>"
      ]
     },
     "metadata": {},
     "output_type": "display_data"
    },
    {
     "data": {
      "image/png": "[encoded data removed]",
      "text/plain": [
       "<Figure size 800x400 with 1 Axes>"
      ]
     },
     "metadata": {},
     "output_type": "display_data"
    }
   ],
   "source": [
    "# Confusion Matrix\n",
    "cm = confusion_matrix(y_test, y_pred)\n",
    "sns.heatmap(cm, annot=True, fmt='d', cmap='Blues')\n",
    "plt.xlabel('Predicted')\n",
    "plt.ylabel('Actual')\n",
    "plt.title('Confusion Matrix')\n",
    "plt.show()\n",
    "\n",
    "# Distribution of Similarity Scores\n",
    "plt.figure(figsize=(8,4))\n",
    "sns.histplot(test_sim[y_test==1], color='g', label='Match', kde=True, stat='density')\n",
    "sns.histplot(test_sim[y_test==0], color='r', label='No Match', kde=True, stat='density')\n",
    "plt.axvline(optimal_threshold, color='k', linestyle='--', label='Threshold')\n",
    "plt.legend()\n",
    "plt.title('SBERT Cosine Similarity Distribution')\n",
    "plt.xlabel('Cosine Similarity')\n",
    "plt.show()"
   ]
  },
  {
   "cell_type": "code",
   "execution_count": 233,
   "id": "d03b9e52-4e79-4206-9711-0d1969d79660",
   "metadata": {},
   "outputs": [
    {
     "name": "stdout",
     "output_type": "stream",
     "text": [
      "Corpus BLEU: 0.83\n",
      "ROUGE-1: 0.246, ROUGE-2: 0.068, ROUGE-L: 0.168\n"
     ]
    }
   ],
   "source": [
    "# BLEU (using sacrebleu)\n",
    "bleu = sacrebleu.corpus_bleu(X_test['Resume_Text'].tolist(), [X_test['Job_Description'].tolist()])\n",
    "print(f\"Corpus BLEU: {bleu.score:.2f}\")\n",
    "\n",
    "# ROUGE (using rouge-score)\n",
    "scorer = rouge_scorer.RougeScorer(['rouge1', 'rouge2', 'rougeL'], use_stemmer=True)\n",
    "rouge1, rouge2, rougel = [], [], []\n",
    "for ref, hyp in zip(X_test['Job_Description'], X_test['Resume_Text']):\n",
    "    scores = scorer.score(ref, hyp)\n",
    "    rouge1.append(scores['rouge1'].fmeasure)\n",
    "    rouge2.append(scores['rouge2'].fmeasure)\n",
    "    rougel.append(scores['rougeL'].fmeasure)\n",
    "print(f\"ROUGE-1: {np.mean(rouge1):.3f}, ROUGE-2: {np.mean(rouge2):.3f}, ROUGE-L: {np.mean(rougel):.3f}\")"
   ]
  },
  {
   "cell_type": "code",
   "execution_count": 243,
   "id": "6a485104-f9d8-488f-9257-61b00f7f4cab",
   "metadata": {},
   "outputs": [
    {
     "name": "stdout",
     "output_type": "stream",
     "text": [
      "Resume: Skills: Data Entry, Microsoft Excel, CRM Systems. Experience: Administrative Assistant at OfficePlus. Projects: Customer Database Cleanup, Monthly Reporting Automation.\n",
      "Job: Sales representative needed for outbound campaigns and CRM management.\n",
      "Actual: 0, Predicted: 0, Similarity: 0.532\n",
      "\n",
      "Resume: Skills: Data Entry, Microsoft Excel, CRM Systems. Experience: Administrative Assistant at OfficePlus. Projects: Customer Database Cleanup, Monthly Reporting Automation.\n",
      "Job: Looking for digital marketer with PPC and social media advertising experience.\n",
      "Actual: 0, Predicted: 0, Similarity: 0.457\n",
      "\n",
      "Resume: Skills: Full Stack Development, React, Node.js, PostgreSQL. Experience: Full Stack Developer at CodeCrafters. Projects: E-commerce Platform, Real-time Chat App.\n",
      "Job: Sales representative needed for outbound campaigns and CRM management.\n",
      "Actual: 0, Predicted: 0, Similarity: 0.387\n",
      "\n",
      "Resume: Skills: Java, Spring Boot, RESTful APIs. Experience: Java Developer at CodeCraft. Projects: E-commerce Backend, Microservices Architecture.\n",
      "Job: We need a backend Java developer with microservices and Spring Boot experience.\n",
      "Actual: 1, Predicted: 1, Similarity: 0.798\n",
      "\n",
      "Resume: Skills: PowerShell, Windows Server, Active Directory. Experience: System Admin at NetSecure.\n",
      "Job: Backend developer with Java and microservices experience needed for fintech platform.\n",
      "Actual: 0, Predicted: 0, Similarity: 0.357\n",
      "\n",
      "Resume: Skills: Patient Care, Medical Terminology, EHR Systems. Experience: Registered Nurse at Mercy Hospital. Projects: Emergency Room Triage, Vaccination Drives.\n",
      "Job: Hiring RN with 3+ years in emergency room care and vaccination program experience.\n",
      "Actual: 1, Predicted: 1, Similarity: 0.706\n",
      "\n"
     ]
    }
   ],
   "source": [
    "for i in range(6):\n",
    "    print(f\"Resume: {X_test.iloc[i]['Resume_Text']}\")\n",
    "    print(f\"Job: {X_test.iloc[i]['Job_Description']}\")\n",
    "    print(f\"Actual: {y_test.iloc[i]}, Predicted: {y_pred[i]}, Similarity: {test_sim[i]:.3f}\\n\")"
   ]
  },
  {
   "cell_type": "code",
   "execution_count": null,
   "id": "66df954f-fc3f-4ad1-90d0-7c0d60eb5c3f",
   "metadata": {},
   "outputs": [],
   "source": []
  },
  {
   "cell_type": "code",
   "execution_count": null,
   "id": "0483b712-13ac-465b-bf79-f0bd863b353f",
   "metadata": {},
   "outputs": [],
   "source": []
  }
 ],
 "metadata": {
  "kernelspec": {
   "display_name": "Python [conda env:base] *",
   "language": "python",
   "name": "conda-base-py"
  },
  "language_info": {
   "codemirror_mode": {
    "name": "ipython",
    "version": 3
   },
   "file_extension": ".py",
   "mimetype": "text/x-python",
   "name": "python",
   "nbconvert_exporter": "python",
   "pygments_lexer": "ipython3",
   "version": "3.12.7"
  }
 },
 "nbformat": 4,
 "nbformat_minor": 5
}
